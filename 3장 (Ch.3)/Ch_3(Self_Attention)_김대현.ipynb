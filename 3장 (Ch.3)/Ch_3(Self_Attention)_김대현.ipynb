{
  "nbformat": 4,
  "nbformat_minor": 0,
  "metadata": {
    "colab": {
      "provenance": []
    },
    "kernelspec": {
      "name": "python3",
      "display_name": "Python 3"
    },
    "language_info": {
      "name": "python"
    }
  },
  "cells": [
    {
      "cell_type": "code",
      "execution_count": null,
      "metadata": {
        "id": "AaIAAhOlCwhD"
      },
      "outputs": [],
      "source": [
        "import torch"
      ]
    },
    {
      "cell_type": "markdown",
      "source": [],
      "metadata": {
        "id": "NWWWZbpGDV6k"
      }
    },
    {
      "cell_type": "markdown",
      "source": [
        "#### 3-1. 변수 정의\n",
        "- 파이토치를 활용해 코드로도 확인해 보겠습니다. 우선 입력 벡터 시퀀스 𝐗 와 쿼리, 키, 밸류 구축에 필요한 행렬들을 앞선 예시 그대로 정의합니다. 코드1과 같습니다."
      ],
      "metadata": {
        "id": "x99Yck9qC-I-"
      }
    },
    {
      "cell_type": "code",
      "source": [
        "x = torch.tensor([\n",
        "  [1.0, 0.0, 1.0, 0.0],\n",
        "  [0.0, 2.0, 0.0, 2.0],\n",
        "  [1.0, 1.0, 1.0, 1.0],\n",
        "])\n",
        "w_query = torch.tensor([\n",
        "  [1.0, 0.0, 1.0],\n",
        "  [1.0, 0.0, 0.0],\n",
        "  [0.0, 0.0, 1.0],\n",
        "  [0.0, 1.0, 1.0]\n",
        "])\n",
        "w_key = torch.tensor([\n",
        "  [0.0, 0.0, 1.0],\n",
        "  [1.0, 1.0, 0.0],\n",
        "  [0.0, 1.0, 0.0],\n",
        "  [1.0, 1.0, 0.0]\n",
        "])\n",
        "w_value = torch.tensor([\n",
        "  [0.0, 2.0, 0.0],\n",
        "  [0.0, 3.0, 0.0],\n",
        "  [1.0, 0.0, 3.0],\n",
        "  [1.0, 1.0, 0.0]\n",
        "])"
      ],
      "metadata": {
        "id": "lkICd17oCzaF"
      },
      "execution_count": null,
      "outputs": []
    },
    {
      "cell_type": "markdown",
      "source": [
        "#### 3-2.  Query, Key, Value 만들기\n",
        "- 코드2는 수식2를 계산해 입력 벡터 시퀀스로 쿼리, 키, 밸류 벡터들을 만드는 파트입니다. torch.matmul는 행렬곱을 수행하는 함수입니다."
      ],
      "metadata": {
        "id": "qnHtveSXDBJz"
      }
    },
    {
      "cell_type": "code",
      "source": [
        "keys = torch.matmul(x, w_key)\n",
        "querys = torch.matmul(x, w_query)\n",
        "values = torch.matmul(x, w_value)"
      ],
      "metadata": {
        "id": "0Lf3rkyuDGQc"
      },
      "execution_count": null,
      "outputs": []
    },
    {
      "cell_type": "markdown",
      "source": [
        "#### 3-3. Attention Score 만들기\n",
        "- 코드3은 코드2에서 만든 쿼리와 키 벡터들을 행렬곱해서 어텐션 스코어를 만드는 과정입니다. keys.T는 키 벡터들을 전치한 행렬입니다."
      ],
      "metadata": {
        "id": "axFHu74GDKmb"
      }
    },
    {
      "cell_type": "code",
      "source": [
        "attn_scores = torch.matmul(querys, keys.T)\n",
        "attn_scores"
      ],
      "metadata": {
        "colab": {
          "base_uri": "https://localhost:8080/"
        },
        "id": "AgcuYR7jDOWT",
        "outputId": "794ff0e9-9572-40fc-cc02-16f7b68ea421"
      },
      "execution_count": null,
      "outputs": [
        {
          "output_type": "execute_result",
          "data": {
            "text/plain": [
              "tensor([[ 2.,  4.,  4.],\n",
              "        [ 4., 16., 12.],\n",
              "        [ 4., 12., 10.]])"
            ]
          },
          "metadata": {},
          "execution_count": 5
        }
      ]
    },
    {
      "cell_type": "markdown",
      "source": [
        "#### 3-4. 소프트맥스 확률값 만들기\n",
        "- 코드4는 코드3의 결과에 키 벡터의 차원수의 제곱근으로 나눠준 뒤 소프트맥스를 취하는 과정입니다."
      ],
      "metadata": {
        "id": "XuRdpgagDdwJ"
      }
    },
    {
      "cell_type": "code",
      "source": [
        "import numpy as np\n",
        "from torch.nn.functional import softmax\n",
        "key_dim_sqrt = np.sqrt(keys.shape[-1])\n",
        "attn_scores_softmax = softmax(attn_scores / key_dim_sqrt, dim=-1)"
      ],
      "metadata": {
        "id": "qt3OH0J-DdQH"
      },
      "execution_count": null,
      "outputs": []
    },
    {
      "cell_type": "code",
      "source": [
        "attn_scores_softmax"
      ],
      "metadata": {
        "colab": {
          "base_uri": "https://localhost:8080/"
        },
        "id": "FoBzZ6elDmcn",
        "outputId": "f9131093-1bb7-403b-8071-d5e5cceafa67"
      },
      "execution_count": null,
      "outputs": [
        {
          "output_type": "execute_result",
          "data": {
            "text/plain": [
              "tensor([[1.3613e-01, 4.3194e-01, 4.3194e-01],\n",
              "        [8.9045e-04, 9.0884e-01, 9.0267e-02],\n",
              "        [7.4449e-03, 7.5471e-01, 2.3785e-01]])"
            ]
          },
          "metadata": {},
          "execution_count": 7
        }
      ]
    },
    {
      "cell_type": "markdown",
      "source": [
        "#### 3-5. 소프트맥스 확률과 밸류를 가중합하기\n",
        "- 코드5는 코드4에서 구한 소프트맥스 확률과 밸류 벡터들을 가중합하는 과정을 수행한다.\n",
        "- 셀프 어텐션의 학습 대상은 쿼리, 키, 밸류를 만드는 가중치 행렬입니다. 코드 예시에서는 w_query, w_key, w_value입니다. 이들은 태스크(예: 기계 번역)를 가장 잘 수행하는 방향으로 학습 과정에서 업데이트됩니다."
      ],
      "metadata": {
        "id": "TaEvXBu_DoUE"
      }
    },
    {
      "cell_type": "code",
      "source": [
        "weighted_values = torch.matmul(attn_scores_softmax, values)\n",
        "weighted_values"
      ],
      "metadata": {
        "colab": {
          "base_uri": "https://localhost:8080/"
        },
        "id": "2ta_rNoQDq-_",
        "outputId": "c81ccd27-0931-44db-c975-da7fe7f21fb2"
      },
      "execution_count": null,
      "outputs": [
        {
          "output_type": "execute_result",
          "data": {
            "text/plain": [
              "tensor([[1.8639, 6.3194, 1.7042],\n",
              "        [1.9991, 7.8141, 0.2735],\n",
              "        [1.9926, 7.4796, 0.7359]])"
            ]
          },
          "metadata": {},
          "execution_count": 12
        }
      ]
    }
  ]
}